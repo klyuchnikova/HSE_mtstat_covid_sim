{
 "cells": [
  {
   "cell_type": "code",
   "execution_count": 9,
   "id": "a5a5006d-b068-4552-8cfe-3c990d3a601e",
   "metadata": {},
   "outputs": [
    {
     "name": "stdout",
     "output_type": "stream",
     "text": [
      "Looking in indexes: https://pypi.yandex-team.ru/simple/\n",
      "Requirement already satisfied: numpy==1.26.4 in /home/klyuliana/anaconda3/lib/python3.12/site-packages (from -r ../requirements.txt (line 2)) (1.26.4)\n",
      "Collecting polars==1.30.0 (from -r ../requirements.txt (line 3))\n",
      "  Downloading https://pypi.yandex-team.ru/repo/default/download/polars/1634470/polars-1.30.0-cp39-abi3-manylinux_2_17_x86_64.manylinux2014_x86_64.whl (36.3 MB)\n",
      "\u001b[2K     \u001b[90m━━━━━━━━━━━━━━━━━━━━━━━━━━━━━━━━━━━━━━━━\u001b[0m \u001b[32m36.3/36.3 MB\u001b[0m \u001b[31m63.1 MB/s\u001b[0m  \u001b[33m0:00:00\u001b[0m eta \u001b[36m0:00:01\u001b[0m\n",
      "\u001b[?25hCollecting matplotlib==3.10.3 (from -r ../requirements.txt (line 6))\n",
      "  Downloading https://pypi.yandex-team.ru/repo/default/download/matplotlib/1623919/matplotlib-3.10.3-cp312-cp312-manylinux_2_17_x86_64.manylinux2014_x86_64.whl (8.6 MB)\n",
      "\u001b[2K     \u001b[90m━━━━━━━━━━━━━━━━━━━━━━━━━━━━━━━━━━━━━━━━\u001b[0m \u001b[32m8.6/8.6 MB\u001b[0m \u001b[31m80.1 MB/s\u001b[0m  \u001b[33m0:00:00\u001b[0m\n",
      "\u001b[?25hCollecting plotly==6.1.2 (from -r ../requirements.txt (line 7))\n",
      "  Downloading https://pypi.yandex-team.ru/repo/default/download/plotly/1638812/plotly-6.1.2-py3-none-any.whl (16.3 MB)\n",
      "\u001b[2K     \u001b[90m━━━━━━━━━━━━━━━━━━━━━━━━━━━━━━━━━━━━━━━━\u001b[0m \u001b[32m16.3/16.3 MB\u001b[0m \u001b[31m85.6 MB/s\u001b[0m  \u001b[33m0:00:00\u001b[0m\n",
      "\u001b[?25hCollecting pymc==5.23.0 (from -r ../requirements.txt (line 10))\n",
      "  Downloading https://pypi.yandex-team.ru/repo/default/download/pymc/1639755/pymc-5.23.0-py3-none-any.whl (519 kB)\n",
      "\u001b[31mERROR: Could not find a version that satisfies the requirement preliz==0.19.0 (from versions: none)\u001b[0m\u001b[31m\n",
      "\u001b[0m\u001b[31mERROR: No matching distribution found for preliz==0.19.0\u001b[0m\u001b[31m\n",
      "\u001b[0m"
     ]
    }
   ],
   "source": [
    "!python -m pip install --upgrade pip\n",
    "!pip install -r ../requirements.txt"
   ]
  },
  {
   "cell_type": "code",
   "execution_count": 13,
   "id": "5a07f47c-cce2-4b15-b9b6-1f73a9546bd5",
   "metadata": {},
   "outputs": [
    {
     "name": "stdout",
     "output_type": "stream",
     "text": [
      "Looking in indexes: https://pypi.yandex-team.ru/simple/\n",
      "Collecting git+git://github.com/arviz-devs/preliz.git\n",
      "  Cloning git://github.com/arviz-devs/preliz.git to /place/vartmp/pip-req-build-p1zt381e\n",
      "  Running command git clone --filter=blob:none --quiet git://github.com/arviz-devs/preliz.git /place/vartmp/pip-req-build-p1zt381e\n",
      "  fatal: unable to connect to github.com:\n",
      "  github.com[0: 64:ff9b::8c52:7904]: errno=Connection timed out\n",
      "\n",
      "  \u001b[1;31merror\u001b[0m: \u001b[1msubprocess-exited-with-error\u001b[0m\n",
      "  \n",
      "  \u001b[31m×\u001b[0m \u001b[32mgit clone --\u001b[0m\u001b[32mfilter\u001b[0m\u001b[32m=\u001b[0m\u001b[32mblob\u001b[0m\u001b[32m:none --quiet git:\u001b[0m\u001b[32m/\u001b[0m\u001b[32m/github.com/arviz-devs/\u001b[0m\u001b[32mpreliz.git\u001b[0m\u001b[32m \u001b[0m\u001b[32m/place/vartmp/\u001b[0m\u001b[32mpip-req-build-p1zt381e\u001b[0m did not run successfully.\n",
      "  \u001b[31m│\u001b[0m exit code: \u001b[1;36m128\u001b[0m\n",
      "  \u001b[31m╰─>\u001b[0m See above for output.\n",
      "  \n",
      "  \u001b[1;35mnote\u001b[0m: This error originates from a subprocess, and is likely not a problem with pip.\n",
      "\u001b[1;31merror\u001b[0m: \u001b[1msubprocess-exited-with-error\u001b[0m\n",
      "\n",
      "\u001b[31m×\u001b[0m \u001b[32mgit clone --\u001b[0m\u001b[32mfilter\u001b[0m\u001b[32m=\u001b[0m\u001b[32mblob\u001b[0m\u001b[32m:none --quiet git:\u001b[0m\u001b[32m/\u001b[0m\u001b[32m/github.com/arviz-devs/\u001b[0m\u001b[32mpreliz.git\u001b[0m\u001b[32m \u001b[0m\u001b[32m/place/vartmp/\u001b[0m\u001b[32mpip-req-build-p1zt381e\u001b[0m did not run successfully.\n",
      "\u001b[31m│\u001b[0m exit code: \u001b[1;36m128\u001b[0m\n",
      "\u001b[31m╰─>\u001b[0m See above for output.\n",
      "\n",
      "\u001b[1;35mnote\u001b[0m: This error originates from a subprocess, and is likely not a problem with pip.\n"
     ]
    }
   ],
   "source": [
    "!pip install git+git://github.com/arviz-devs/preliz.git"
   ]
  },
  {
   "cell_type": "code",
   "execution_count": null,
   "id": "013da2ef-a5c8-467d-916d-d821f0a5cf60",
   "metadata": {},
   "outputs": [],
   "source": []
  }
 ],
 "metadata": {
  "kernelspec": {
   "display_name": "Python 3 (ipykernel)",
   "language": "python",
   "name": "python3"
  },
  "language_info": {
   "codemirror_mode": {
    "name": "ipython",
    "version": 3
   },
   "file_extension": ".py",
   "mimetype": "text/x-python",
   "name": "python",
   "nbconvert_exporter": "python",
   "pygments_lexer": "ipython3",
   "version": "3.12.4"
  }
 },
 "nbformat": 4,
 "nbformat_minor": 5
}
